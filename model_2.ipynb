{
 "cells": [
  {
   "cell_type": "code",
   "execution_count": 1,
   "metadata": {},
   "outputs": [
    {
     "name": "stdout",
     "output_type": "stream",
     "text": [
      "Requirement already satisfied: umap-learn in d:\\machine-learning-lab\\.conda\\lib\\site-packages (0.5.5)\n",
      "Requirement already satisfied: numpy>=1.17 in d:\\machine-learning-lab\\.conda\\lib\\site-packages (from umap-learn) (1.24.4)\n",
      "Requirement already satisfied: scipy>=1.3.1 in d:\\machine-learning-lab\\.conda\\lib\\site-packages (from umap-learn) (1.10.1)\n",
      "Requirement already satisfied: scikit-learn>=0.22 in d:\\machine-learning-lab\\.conda\\lib\\site-packages (from umap-learn) (1.3.2)\n",
      "Requirement already satisfied: numba>=0.51.2 in d:\\machine-learning-lab\\.conda\\lib\\site-packages (from umap-learn) (0.58.1)\n",
      "Requirement already satisfied: pynndescent>=0.5 in d:\\machine-learning-lab\\.conda\\lib\\site-packages (from umap-learn) (0.5.11)\n",
      "Requirement already satisfied: tqdm in d:\\machine-learning-lab\\.conda\\lib\\site-packages (from umap-learn) (4.66.1)\n",
      "Requirement already satisfied: llvmlite<0.42,>=0.41.0dev0 in d:\\machine-learning-lab\\.conda\\lib\\site-packages (from numba>=0.51.2->umap-learn) (0.41.1)\n",
      "Requirement already satisfied: importlib-metadata in d:\\machine-learning-lab\\.conda\\lib\\site-packages (from numba>=0.51.2->umap-learn) (6.10.0)\n",
      "Requirement already satisfied: joblib>=0.11 in d:\\machine-learning-lab\\.conda\\lib\\site-packages (from pynndescent>=0.5->umap-learn) (1.3.2)\n",
      "Requirement already satisfied: threadpoolctl>=2.0.0 in d:\\machine-learning-lab\\.conda\\lib\\site-packages (from scikit-learn>=0.22->umap-learn) (3.2.0)\n",
      "Requirement already satisfied: colorama in d:\\machine-learning-lab\\.conda\\lib\\site-packages (from tqdm->umap-learn) (0.4.6)\n",
      "Requirement already satisfied: zipp>=0.5 in d:\\machine-learning-lab\\.conda\\lib\\site-packages (from importlib-metadata->numba>=0.51.2->umap-learn) (3.17.0)\n"
     ]
    }
   ],
   "source": [
    "! pip install umap-learn"
   ]
  },
  {
   "cell_type": "code",
   "execution_count": 2,
   "metadata": {},
   "outputs": [
    {
     "name": "stderr",
     "output_type": "stream",
     "text": [
      "d:\\Machine-Learning-Lab\\.conda\\lib\\site-packages\\tqdm\\auto.py:21: TqdmWarning: IProgress not found. Please update jupyter and ipywidgets. See https://ipywidgets.readthedocs.io/en/stable/user_install.html\n",
      "  from .autonotebook import tqdm as notebook_tqdm\n"
     ]
    }
   ],
   "source": [
    "import pandas as pd\n",
    "from sklearn.preprocessing import LabelEncoder\n",
    "from sklearn.model_selection import train_test_split\n",
    "from sklearn.metrics import accuracy_score\n",
    "from sklearn.ensemble import RandomForestClassifier\n",
    "import numpy as np\n",
    "import umap\n",
    "\n",
    "import matplotlib.pyplot as plt\n",
    "from sklearn.manifold import TSNE\n",
    "from sklearn.linear_model import LogisticRegression\n",
    "from xgboost import XGBClassifier\n",
    "from lightgbm import LGBMClassifier\n",
    "from catboost import CatBoostClassifier\n",
    "from sklearn.svm import SVC\n",
    "from sklearn.neighbors import KNeighborsClassifier"
   ]
  },
  {
   "cell_type": "code",
   "execution_count": 3,
   "metadata": {},
   "outputs": [],
   "source": [
    "building=pd.read_csv('building_data.csv')\n",
    "climate=pd.read_csv('climate_data.csv')\n",
    "target=pd.read_csv('target_labels.csv')"
   ]
  },
  {
   "cell_type": "code",
   "execution_count": 4,
   "metadata": {},
   "outputs": [],
   "source": [
    "merged_df = pd.concat([building, climate, target], axis=1)\n"
   ]
  },
  {
   "cell_type": "code",
   "execution_count": 5,
   "metadata": {},
   "outputs": [],
   "source": [
    "col_name = merged_df.select_dtypes(include='object').columns\n",
    "for i in col_name:\n",
    "    merged_df[i] = LabelEncoder().fit_transform(merged_df[i])"
   ]
  },
  {
   "cell_type": "code",
   "execution_count": null,
   "metadata": {},
   "outputs": [],
   "source": [
    "from sklearn.manifold import Isomap\n",
    "\n",
    "\n",
    "X=merged_df.drop(['Climate_Impact'], axis=1)\n",
    "y=merged_df['Climate_Impact']\n",
    "for i in range(1,10):\n",
    "    isomap_model = Isomap(n_components=i)\n",
    "    X_isomap = isomap_model.fit_transform(X)\n",
    "    X_train, X_test, y_train, y_test = train_test_split(X_isomap, y, test_size=0.2, random_state=42)\n",
    "    \n",
    "    knn_model = KNeighborsClassifier()\n",
    "    knn_model.fit(X_train, y_train)\n",
    "    y_pred = knn_model.predict(X_test)\n",
    "    accuracy = accuracy_score(y_test, y_pred)\n",
    "    print(f'K-Nearest Neighbors Accuracy: {accuracy:.2f}')\n",
    "    logreg_model = LogisticRegression()\n",
    "\n",
    "    # Train the model\n",
    "    logreg_model.fit(X_train, y_train)\n",
    "\n",
    "    # Make predictions on the test set\n",
    "    y_pred = logreg_model.predict(X_test)\n",
    "\n",
    "    # Evaluate the model performance\n",
    "    accuracy = accuracy_score(y_test, y_pred)\n",
    "    print(f'Logistic Regression Accuracy: {accuracy:.2f}')\n",
    "    rf_model = RandomForestClassifier(n_estimators=100, random_state=42)\n",
    "\n",
    "    # Train the model\n",
    "    rf_model.fit(X_train, y_train)\n",
    "\n",
    "    # Make predictions on the test set\n",
    "    y_pred = rf_model.predict(X_test)\n",
    "        \n",
    "    accuracy = accuracy_score(y_test, y_pred)\n",
    "    print(f'Random Forest Accuracy: {accuracy:.2f}')    \n",
    "    xgb_model = XGBClassifier(n_estimators=100, random_state=42)\n",
    "\n",
    "    xgb_model.fit(X_train, y_train)\n",
    "\n",
    "    y_pred = xgb_model.predict(X_test)\n",
    "\n",
    "    accuracy = accuracy_score(y_test, y_pred)\n",
    "    print(f'XGBoost Accuracy: {accuracy:.2f}')\n",
    "    svm_model = SVC()\n",
    "\n",
    "    svm_model.fit(X_train, y_train)\n",
    "\n",
    "    y_pred = svm_model.predict(X_test)\n",
    "\n",
    "    accuracy = accuracy_score(y_test, y_pred)\n",
    "    print(f'SVM Accuracy: {accuracy:.2f}')\n",
    "    svm_model = SVC(kernel='linear')\n",
    "\n",
    "    svm_model.fit(X_train, y_train)\n",
    "\n",
    "    y_pred = svm_model.predict(X_test)\n",
    "\n",
    "    accuracy = accuracy_score(y_test, y_pred)\n",
    "    print(f'SVM Linear Accuracy: {accuracy:.2f}')\n",
    "    svm_model = SVC(kernel='rbf')\n",
    "\n",
    "    svm_model.fit(X_train, y_train)\n",
    "\n",
    "    y_pred = svm_model.predict(X_test)\n",
    "\n",
    "    accuracy = accuracy_score(y_test, y_pred)\n",
    "    print(f'SVM RBF Accuracy: {accuracy:.2f}')\n",
    "    lgb_model = lgb.LGBMClassifier()\n",
    "\n",
    "    lgb_model.fit(X_train, y_train)\n",
    "\n",
    "    y_pred = lgb_model.predict(X_test)\n",
    "\n",
    "    accuracy = accuracy_score(y_test, y_pred)\n",
    "    print(f'LightGBM Accuracy: {accuracy:.2f}')\n",
    "    catboost_model = CatBoostClassifier(iterations=100, depth=6, learning_rate=0.1, loss_function='Logloss')\n",
    "\n",
    "    catboost_model.fit(X_train, y_train)\n",
    "\n",
    "    y_pred = catboost_model.predict(X_test)\n",
    "\n",
    "    accuracy = accuracy_score(y_test, y_pred)\n",
    "    print(f'CatBoost Accuracy: {accuracy:.2f}')"
   ]
  },
  {
   "cell_type": "code",
   "execution_count": null,
   "metadata": {},
   "outputs": [],
   "source": []
  }
 ],
 "metadata": {
  "kernelspec": {
   "display_name": "Python 3",
   "language": "python",
   "name": "python3"
  },
  "language_info": {
   "codemirror_mode": {
    "name": "ipython",
    "version": 3
   },
   "file_extension": ".py",
   "mimetype": "text/x-python",
   "name": "python",
   "nbconvert_exporter": "python",
   "pygments_lexer": "ipython3",
   "version": "3.8.18"
  }
 },
 "nbformat": 4,
 "nbformat_minor": 2
}
